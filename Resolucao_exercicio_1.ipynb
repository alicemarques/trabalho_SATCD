{
 "cells": [
  {
   "cell_type": "code",
   "execution_count": 1,
   "metadata": {},
   "outputs": [],
   "source": [
    "# Bibliotecas Python\n",
    "from random import randint\n",
    "from sympy import isprime"
   ]
  },
  {
   "cell_type": "code",
   "execution_count": 2,
   "metadata": {},
   "outputs": [],
   "source": [
    "# Função que gera os numeros Primos nescessarios para Criptografia\n",
    "def random_prime(lower_bound, upper_bound):\n",
    "    while True:\n",
    "        r = randint(lower_bound, upper_bound)\n",
    "        if isprime(r):\n",
    "            return r"
   ]
  },
  {
   "cell_type": "code",
   "execution_count": 3,
   "metadata": {},
   "outputs": [],
   "source": [
    "# Chamada da Função para Retornar os Primos\n",
    "p = random_prime(2**10, 2**11)\n",
    "q = random_prime(2**10, 2**11)\n",
    "\n",
    "# Multiplicação para obtenção da variavel N\n",
    "N = p*q\n",
    "\n",
    "Phi = (p-1)*(q-1)\n",
    "\n",
    "# Chave Publica\n",
    "# Escolha de um numero 'e', cuja regra é ser Primo maior que 1 e menor que 'Phi'\n",
    "e = random_prime(1, Phi)"
   ]
  },
  {
   "cell_type": "code",
   "execution_count": 4,
   "metadata": {},
   "outputs": [],
   "source": [
    "# Salvar o valor numerico de cada letra utilizando Python ord() e salvar dentro de um dicionario 'cifra'\n",
    "cifra = []\n",
    "cripto = 'Engenharia de Dados'\n",
    "for x in cripto:\n",
    "    cifra.append(ord(x))"
   ]
  },
  {
   "cell_type": "code",
   "execution_count": 5,
   "metadata": {},
   "outputs": [],
   "source": [
    "# Aplicação da formula de Criptografia RSA\n",
    "cifrada = []\n",
    "for x in cifra:\n",
    "    a = pow(x, e, N)\n",
    "    cifrada.append(a)\n",
    "    "
   ]
  },
  {
   "cell_type": "code",
   "execution_count": 6,
   "metadata": {},
   "outputs": [],
   "source": [
    "# Aplicação da formula para obter o valor original \n",
    "desCifra = []\n",
    "\n",
    "# Chave Privada\n",
    "D = pow(e,-1, Phi)\n",
    "\n",
    "for x in cifrada:\n",
    "    a = pow(x,D,N)\n",
    "    desCifra.append(a)"
   ]
  },
  {
   "cell_type": "code",
   "execution_count": 7,
   "metadata": {},
   "outputs": [
    {
     "name": "stdout",
     "output_type": "stream",
     "text": [
      "Valor Cifrado: 123720636987718352861517279369877196122010496928096682382510496930736978550115172793073693744961049697855015185091646722\n",
      "\n",
      "Valor Traduzido: Engenharia de Dados"
     ]
    }
   ],
   "source": [
    "# Demonstração dos Valores\n",
    "print('Valor Cifrado: ', end='')\n",
    "for x in cifrada:\n",
    "    print (x, end='')\n",
    "\n",
    "print('\\n')\n",
    "print('Valor Traduzido: ', end='')\n",
    "for x in desCifra:\n",
    "    print(chr(x), end='')\n"
   ]
  },
  {
   "cell_type": "code",
   "execution_count": 8,
   "metadata": {
    "scrolled": true
   },
   "outputs": [
    {
     "name": "stdout",
     "output_type": "stream",
     "text": [
      "Primeiro Numero Primo: 1949\n",
      "Segundo Numero Primo: 1097\n",
      "\n",
      "Chave Publica: 1463933\n",
      "Compisição da Chave Publica: 2138053\n",
      "\n",
      "Chave Privada: 1220245\n",
      "Compisição da Chave Privada: 2138053\n",
      "\n"
     ]
    }
   ],
   "source": [
    "print('Primeiro Numero Primo: ' + str(p))\n",
    "print('Segundo Numero Primo: ' + str(q) + '\\n')\n",
    "print('Chave Publica: ' + str(e)) \n",
    "print('Compisição da Chave Publica: ' + str(N) + '\\n') \n",
    "print('Chave Privada: ' + str(D))\n",
    "print('Compisição da Chave Privada: ' + str(N) + '\\n') "
   ]
  },
  {
   "cell_type": "code",
   "execution_count": null,
   "metadata": {},
   "outputs": [],
   "source": []
  }
 ],
 "metadata": {
  "kernelspec": {
   "display_name": "Python 3 (ipykernel)",
   "language": "python",
   "name": "python3"
  },
  "language_info": {
   "codemirror_mode": {
    "name": "ipython",
    "version": 3
   },
   "file_extension": ".py",
   "mimetype": "text/x-python",
   "name": "python",
   "nbconvert_exporter": "python",
   "pygments_lexer": "ipython3",
   "version": "3.10.6"
  },
  "vscode": {
   "interpreter": {
    "hash": "31f2aee4e71d21fbe5cf8b01ff0e069b9275f58929596ceb00d14d90e3e16cd6"
   }
  }
 },
 "nbformat": 4,
 "nbformat_minor": 2
}
